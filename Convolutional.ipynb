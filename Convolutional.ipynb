{
  "nbformat": 4,
  "nbformat_minor": 0,
  "metadata": {
    "colab": {
      "provenance": []
    },
    "kernelspec": {
      "name": "python3",
      "display_name": "Python 3"
    },
    "language_info": {
      "name": "python"
    }
  },
  "cells": [
    {
      "cell_type": "markdown",
      "source": [
        "# Music Genre Classification\n",
        "\n",
        "With the help of Neural Networks , this Notebook classifies music genres. This is the second approach using **Convolutional Neural Network**"
      ],
      "metadata": {
        "id": "mTn55bRWcViw"
      }
    },
    {
      "cell_type": "code",
      "source": [
        "import os\n",
        "import time\n",
        "import torch\n",
        "import numpy as np\n",
        "import pandas as pd\n",
        "import seaborn as sns\n",
        "import torch.nn as nn\n",
        "from google.colab import drive\n",
        "import matplotlib.pyplot as plt\n",
        "import torch.nn.functional as F\n",
        "from torch.utils.data import Dataset\n",
        "from torch.utils.data import DataLoader\n",
        "\n",
        "drive.mount('/content/drive')"
      ],
      "metadata": {
        "colab": {
          "base_uri": "https://localhost:8080/"
        },
        "id": "-zi2Tw5KzkER",
        "outputId": "7e5c0386-99f4-4108-d21a-9de1ff6e5e4d"
      },
      "execution_count": 2,
      "outputs": [
        {
          "output_type": "stream",
          "name": "stdout",
          "text": [
            "Mounted at /content/drive\n"
          ]
        }
      ]
    },
    {
      "cell_type": "markdown",
      "source": [
        "# Step 1\n",
        "\n",
        "Load data from Google Drive and transform labels from strings to integers from 0 to 3, keeping their mapping to class names. Then load the data into Dataloaders."
      ],
      "metadata": {
        "id": "uYX6xfTcdQ19"
      }
    },
    {
      "cell_type": "code",
      "execution_count": 3,
      "metadata": {
        "id": "bUOo6YRjcTZY"
      },
      "outputs": [],
      "source": [
        "location = r'/content/drive/My Drive/data_music/'\n",
        "\n",
        "train_path = location + 'train/melgrams/'\n",
        "train_x = np.load(train_path + 'X.npy')\n",
        "train_lbls = np.load(train_path + 'labels.npy')\n",
        "\n",
        "test_path = location + 'test/melgrams/'\n",
        "test_x = np.load(test_path + 'X.npy')\n",
        "test_lbls = np.load(test_path + 'labels.npy')\n",
        "\n",
        "val_path = location + 'val/melgrams/'\n",
        "val_x = np.load(val_path + 'X.npy')\n",
        "val_lbls = np.load(val_path + 'labels.npy')"
      ]
    },
    {
      "cell_type": "markdown",
      "source": [
        "\n",
        "\n",
        "* mel-spectrograms (melgrams) are used in this approach. MelGrams being 2D time-frequency representations, resemble images and thus naturally align with CNNs.\n",
        "\n"
      ],
      "metadata": {
        "id": "YWsLjx0AfDoV"
      }
    },
    {
      "cell_type": "code",
      "source": [
        "class melgramData(Dataset): #use opposite labels\n",
        "  def __init__(self,data, labels,labels_map,transform=None, target_transform=None) -> None:\n",
        "    self.transform = transform\n",
        "    self.target_transform = target_transform\n",
        "    self.melgramlabels = []\n",
        "    for l in labels:\n",
        "      self.melgramlabels.append(labels_map[l])\n",
        "    self.melgramlabels = np.array(self.melgramlabels)\n",
        "    self.melgramdata = data\n",
        "\n",
        "  def __len__(self):\n",
        "    return len(self.melgramlabels)\n",
        "\n",
        "  def __getitem__(self, index):\n",
        "    sound = self.melgramdata[index]\n",
        "    label = self.melgramlabels[index]\n",
        "    if self.transform:\n",
        "      sound = self.transform(sound)\n",
        "    if self.target_transform:\n",
        "      label = self.target_transform(label)\n",
        "\n",
        "    return sound, label"
      ],
      "metadata": {
        "id": "PjBYv7KWfN59"
      },
      "execution_count": 4,
      "outputs": []
    },
    {
      "cell_type": "code",
      "source": [
        "labels_map = {\n",
        "    0: \"classical\",\n",
        "    1: \"blues\",\n",
        "    2: \"rock_metal_hardrock\",\n",
        "    3: \"hiphop\",\n",
        "}\n",
        "\n",
        "inverse_labels_map = {\n",
        "    'classical' : 0,\n",
        "    'blues' : 1,\n",
        "    'rock_metal_hardrock' : 2,\n",
        "    'hiphop' : 3,\n",
        "}\n",
        "\n",
        "train_data = melgramData(train_x, train_lbls, inverse_labels_map, torch.tensor)\n",
        "val_data = melgramData(val_x, val_lbls, inverse_labels_map, torch.tensor)\n",
        "test_data = melgramData(test_x, test_lbls, inverse_labels_map, torch.tensor)\n",
        "\n",
        "train_dataloader = DataLoader(train_data, batch_size=16,shuffle=True )\n",
        "val_dataloader =  DataLoader(val_data, batch_size=16 ,shuffle=True )\n",
        "test_dataloader =  DataLoader(test_data, batch_size=16 ,shuffle=False )"
      ],
      "metadata": {
        "id": "3emH_7MLd1xB"
      },
      "execution_count": 5,
      "outputs": []
    },
    {
      "cell_type": "code",
      "source": [
        "labelsMapping, indexed_labels_train = np.unique(train_lbls, return_inverse=True)\n",
        "labelsMapping, indexed_labels_val = np.unique(val_lbls, return_inverse=True)\n",
        "labelsMapping, indexed_labels_test = np.unique(test_lbls, return_inverse=True)"
      ],
      "metadata": {
        "id": "LHEAxMcNS1w-"
      },
      "execution_count": 12,
      "outputs": []
    },
    {
      "cell_type": "markdown",
      "source": [
        "* Visualizemelgrams from each set."
      ],
      "metadata": {
        "id": "nZzaOIRyf4aC"
      }
    },
    {
      "cell_type": "code",
      "source": [
        "#Sample Visualization\n",
        "sample = np.random.randint(len(train_data), size=(1,)).item()\n",
        "img, label = train_data[sample]\n",
        "plt.subplot(3,1,1)\n",
        "plt.title('Train: ' + labels_map[label])\n",
        "plt.imshow(img.squeeze())\n",
        "\n",
        "sample = np.random.randint(len(val_data), size=(1,)).item()\n",
        "img, label = val_data[sample]\n",
        "plt.subplot(3,1,3)\n",
        "plt.title('Validation : ' + labels_map[label])\n",
        "plt.imshow(img.squeeze())\n",
        "\n",
        "sample = np.random.randint(len(test_data), size=(1,)).item()\n",
        "img, label = test_data[sample]\n",
        "plt.subplot(3,1,2)\n",
        "plt.title('Test: ' + labels_map[label])\n",
        "plt.imshow(img.squeeze())"
      ],
      "metadata": {
        "colab": {
          "base_uri": "https://localhost:8080/",
          "height": 442
        },
        "id": "ztdWp4_PfDIH",
        "outputId": "fd4be2bb-375a-4d48-ac0d-40d358b74f92"
      },
      "execution_count": 6,
      "outputs": [
        {
          "output_type": "execute_result",
          "data": {
            "text/plain": [
              "<matplotlib.image.AxesImage at 0x7b97feb48bb0>"
            ]
          },
          "metadata": {},
          "execution_count": 6
        },
        {
          "output_type": "display_data",
          "data": {
            "text/plain": [
              "<Figure size 640x480 with 3 Axes>"
            ],
            "image/png": "[encoded data removed]"
          },
          "metadata": {}
        }
      ]
    },
    {
      "cell_type": "markdown",
      "source": [
        "# STEP 2\n",
        "\n",
        "Vanilla Convolutional Neural Network."
      ],
      "metadata": {
        "id": "QXEqHUWJLf4X"
      }
    },
    {
      "cell_type": "code",
      "source": [
        "class LeNet(nn.Module):\n",
        "  def __init__(self) -> None:\n",
        "      super(LeNet, self).__init__()\n",
        "      self.convolution_layer = nn.Sequential(\n",
        "          nn.Conv2d(1, 16, 5),\n",
        "          nn.Conv2d(16, 32, 5),\n",
        "          nn.Conv2d(32, 64, 5),\n",
        "          nn.Conv2d(64, 128, 5),\n",
        "      )\n",
        "\n",
        "      self.linear_relu_stack = nn.Sequential(\n",
        "          nn.Linear(71680, 1024),\n",
        "          nn.Linear(1024, 256),\n",
        "          nn.Linear(256,32),\n",
        "          nn.Linear(32,4),\n",
        "      )\n",
        "\n",
        "  def forward(self, x):\n",
        "    x = self.convolution_layer(x)\n",
        "    x = torch.flatten(x,1)\n",
        "    logits =  self.linear_relu_stack(x)\n",
        "    return logits\n"
      ],
      "metadata": {
        "id": "-8Tjs6ULLpvd"
      },
      "execution_count": 7,
      "outputs": []
    },
    {
      "cell_type": "markdown",
      "source": [
        "\n",
        "\n",
        "*   Training Function\n",
        "\n"
      ],
      "metadata": {
        "id": "8UUCn74eLrr5"
      }
    },
    {
      "cell_type": "code",
      "source": [
        "def train_loop(dataloader, model, loss_fn, optimizer):\n",
        "  size = len(dataloader.dataset)\n",
        "  device = 'cpu'\n",
        "  for batch, (X, y) in enumerate(dataloader):\n",
        "\n",
        "        X = X.to(device)\n",
        "        y = y.to(device)\n",
        "        X = torch.unsqueeze(X,1)\n",
        "\n",
        "# Compute prediction and loss\n",
        "        pred = model(X) #For each input batch  #forward()\n",
        "        loss = loss_fn(pred, y) #Compute loss\n",
        "\n",
        "# Backpropagation\n",
        "        optimizer.zero_grad() ##find gradients\n",
        "        loss.backward()  ##bacvk propagate loss\n",
        "        optimizer.step() ##optimization\n",
        "\n",
        "        if batch % 100 == 0:\n",
        "            loss, current = loss.item(), batch * len(X)\n",
        "            print(f\"loss: {loss:>7f}  [{current:>5d}/{size:>5d}]\")"
      ],
      "metadata": {
        "id": "iS9KA_p7MAEJ"
      },
      "execution_count": 16,
      "outputs": []
    },
    {
      "cell_type": "markdown",
      "source": [
        "* Evaluation Function"
      ],
      "metadata": {
        "id": "wRBA9vaoMKXB"
      }
    },
    {
      "cell_type": "code",
      "source": [
        "from sklearn.metrics import accuracy_score, f1_score, confusion_matrix, ConfusionMatrixDisplay"
      ],
      "metadata": {
        "id": "mGRQlyBRMNW8"
      },
      "execution_count": 9,
      "outputs": []
    },
    {
      "cell_type": "code",
      "source": [
        "def test_loop(dataloader, model, loss_fn):\n",
        "    size = len(dataloader.dataset)\n",
        "    test_loss, correct = 0, 0\n",
        "    device = 'cpu'\n",
        "\n",
        "#The no_grad command tells PyTorch that we dont want to accumulate gradients for these operations\n",
        "    predictions = []\n",
        "    labels = []\n",
        "    with torch.no_grad():\n",
        "        for X, y in dataloader:\n",
        "#If using gpu dont forget to move the data there\n",
        "            X = X.to(device)\n",
        "            y = y.to(device)\n",
        "            X = torch.unsqueeze(X,1)\n",
        "\n",
        "            pred = model(X)\n",
        "            predictions.append(pred.argmax(1).cpu().numpy())\n",
        "            labels.append(y.cpu().numpy())\n",
        "            test_loss += loss_fn(pred, y).item()\n",
        "            correct += (pred.argmax(1) == y).type(torch.float).sum().item()\n",
        "\n",
        "    test_loss /= size\n",
        "    correct /= size\n",
        "#np.array to use with  scikit\n",
        "    predictions = np.array(predictions).flatten()\n",
        "    labels = np.array(labels).flatten()\n",
        "    # print(f'The sape of the labels {labels.shape} and of the Predictions {predictions.shape}')\n",
        "    accuracy = accuracy_score(labels, predictions)\n",
        "    f1_macro = f1_score(labels, predictions, average='macro')\n",
        "    print(f\"Test Error: \\n Accuracy: {(100*correct):>0.1f}%, Avg loss: {test_loss:>8f} , Accuracy: {accuracy} , f1_macro: {f1_macro} \\n\")\n",
        "    return test_loss , accuracy , f1_macro , labels , predictions"
      ],
      "metadata": {
        "id": "dlrTtB8pMPtq"
      },
      "execution_count": 17,
      "outputs": []
    },
    {
      "cell_type": "markdown",
      "source": [
        "* Train and Evaluate Function"
      ],
      "metadata": {
        "id": "0xuQb_oKM7iF"
      }
    },
    {
      "cell_type": "code",
      "source": [
        "def train_with_validation(epochs, optimizer, tr_dataloader, val_dataloader, loss_fn , model):\n",
        "  opt_model = None\n",
        "  opt_f1 = 0\n",
        "  opt_epoch = 0\n",
        "  for e in range(epochs):\n",
        "    print(f\"Epoch {e+1}\\n-------------------------------\")\n",
        "    train_loop(tr_dataloader, model, loss_fn, optimizer)\n",
        "    loss , acc , f1 , true , pred = test_loop(val_dataloader ,model ,loss_fn)\n",
        "    if f1 > opt_f1:\n",
        "      opt_model = model\n",
        "      opt_f1 = f1\n",
        "      opt_epoch = e\n",
        "  print(f'Best Epoch is : {opt_epoch} with {opt_f1} f1_score')\n",
        "  return opt_model"
      ],
      "metadata": {
        "id": "yiqgP2J-M_lA"
      },
      "execution_count": 11,
      "outputs": []
    },
    {
      "cell_type": "code",
      "source": [
        "def confusionMatrix(trues, preds):\n",
        "    names =[labelsMapping[0], labelsMapping[1], labelsMapping[2],labelsMapping[3]]\n",
        "    cfmatr = confusion_matrix(trues, preds)\n",
        "    df_cm = pd.DataFrame(cfmatr/np.sum(cfmatr) * 4, index = [i for i in names],\n",
        "                     columns = [i for i in names])\n",
        "    plt.figure(figsize = (9,9))\n",
        "    sns.heatmap(df_cm, cmap='viridis_r', annot=True)\n",
        "    plt.show()"
      ],
      "metadata": {
        "id": "Ld5_3RXhNwxn"
      },
      "execution_count": 13,
      "outputs": []
    },
    {
      "cell_type": "markdown",
      "source": [
        "#Step 3\n",
        "\n",
        "Train"
      ],
      "metadata": {
        "id": "9nbueU7eNFZA"
      }
    },
    {
      "cell_type": "code",
      "source": [
        "def training_fun(Network):\n",
        "  device = 'cuda' if torch.cuda.is_available() else 'cpu'\n",
        "  c_model = LeNet().to(device)\n",
        "  # print(c_model)\n",
        "  learning_rate = 0.002\n",
        "  optimizer = torch.optim.SGD(c_model.parameters(), lr = learning_rate)\n",
        "  loss_fn = nn.CrossEntropyLoss()\n",
        "  num_epochs = 30\n",
        "\n",
        "  start_time = time.time()\n",
        "  for t in range(num_epochs):\n",
        "      print(f\"Epoch {t+1}\\n-------------------------------\")\n",
        "      train_loop(train_dataloader, c_model, loss_fn, optimizer)\n",
        "\n",
        "  loss , acc , f1 , true , pred = test_loop(test_dataloader, c_model, loss_fn)\n",
        "  confusionMatrix(true, pred)\n",
        "  print(\"Done!\")\n",
        "  print(f'\\n Time needed: {time.time() - start_time}')"
      ],
      "metadata": {
        "id": "iKQ8WpKLNNWO"
      },
      "execution_count": 14,
      "outputs": []
    },
    {
      "cell_type": "code",
      "source": [
        "training_fun(LeNet)"
      ],
      "metadata": {
        "id": "nWZHm0dFQk-8"
      },
      "execution_count": null,
      "outputs": []
    },
    {
      "cell_type": "markdown",
      "source": [
        "The training procedure is really slow and the loss infinity. This brings us to the need of the next step."
      ],
      "metadata": {
        "id": "0czwJyZQNOwI"
      }
    },
    {
      "cell_type": "markdown",
      "source": [
        "# Step 4\n",
        "\n",
        "Pooling and Padding.\n",
        "Pooling is useful because it reduces the dimensions of the feature map, so it makes the representations smaller and easier to use. After Padding , the size of the output is smaller than the input."
      ],
      "metadata": {
        "id": "2gsFHCw2RMkd"
      }
    },
    {
      "cell_type": "code",
      "source": [
        "class LeNet(nn.Module):\n",
        "  def __init__(self) -> None:\n",
        "      super(LeNet, self).__init__()\n",
        "      self.convolution_layer = nn.Sequential(\n",
        "          nn.Conv2d(1, 16, 5, stride=1, padding=2),\n",
        "          nn.MaxPool2d(2),\n",
        "          nn.Conv2d(16, 32, 5, stride=1, padding=2),\n",
        "          nn.MaxPool2d(2),\n",
        "          nn.Conv2d(32, 64, 5, stride=1, padding=2),\n",
        "          nn.MaxPool2d(2),\n",
        "          nn.Conv2d(64, 128, 5, stride=1, padding=2),\n",
        "          nn.MaxPool2d(2),\n",
        "      )\n",
        "\n",
        "      self.linear_relu_stack = nn.Sequential(\n",
        "          nn.Linear(1024, 1024),\n",
        "          nn.Linear(1024, 256),\n",
        "          nn.Linear(256,32),\n",
        "          nn.Linear(32,4),\n",
        "      )\n",
        "\n",
        "  def forward(self, x):\n",
        "    x = self.convolution_layer(x)\n",
        "    x = torch.flatten(x,1)\n",
        "    logits =  self.linear_relu_stack(x)\n",
        "    return logits"
      ],
      "metadata": {
        "id": "D6zlneKYO6te"
      },
      "execution_count": 20,
      "outputs": []
    },
    {
      "cell_type": "code",
      "source": [
        "training_fun(LeNet)"
      ],
      "metadata": {
        "id": "V5A5DJ6uQ2Zt"
      },
      "execution_count": null,
      "outputs": []
    },
    {
      "cell_type": "markdown",
      "source": [
        "# Step 5\n",
        "\n",
        "Activation Functions"
      ],
      "metadata": {
        "id": "Bq1II4A7R4OU"
      }
    },
    {
      "cell_type": "code",
      "source": [
        "class LeNet(nn.Module):\n",
        "  def __init__(self) -> None:\n",
        "      super(LeNet, self).__init__()\n",
        "      self.convolution_layer = nn.Sequential(\n",
        "          nn.Conv2d(1, 16, 5, stride=1, padding=2),\n",
        "          nn.ReLU(),\n",
        "          nn.MaxPool2d(2),\n",
        "          nn.Conv2d(16, 32, 5, stride=1, padding=2),\n",
        "          nn.ReLU(),\n",
        "          nn.MaxPool2d(2),\n",
        "          nn.Conv2d(32, 64, 5, stride=1, padding=2),\n",
        "          nn.ReLU(),\n",
        "          nn.MaxPool2d(2),\n",
        "          nn.Conv2d(64, 128, 5, stride=1, padding=2),\n",
        "          nn.ReLU(),\n",
        "          nn.MaxPool2d(2),\n",
        "      )\n",
        "\n",
        "      self.linear_relu_stack = nn.Sequential(\n",
        "          nn.Linear(1024, 1024),\n",
        "          nn.ReLU(),\n",
        "          nn.Linear(1024, 256),\n",
        "          nn.ReLU(),\n",
        "          nn.Linear(256,32),\n",
        "          nn.ReLU(),\n",
        "          nn.Linear(32,4),\n",
        "      )\n",
        "\n",
        "  def forward(self, x):\n",
        "    x = self.convolution_layer(x)\n",
        "    x = torch.flatten(x,1)\n",
        "    logits =  self.linear_relu_stack(x)\n",
        "    return logits"
      ],
      "metadata": {
        "id": "H7cPn4yhR8fk"
      },
      "execution_count": null,
      "outputs": []
    },
    {
      "cell_type": "code",
      "source": [
        "training_fun(LeNet)"
      ],
      "metadata": {
        "id": "GP6JkBhnR_p-"
      },
      "execution_count": null,
      "outputs": []
    }
  ]
}