{
  "nbformat": 4,
  "nbformat_minor": 0,
  "metadata": {
    "colab": {
      "provenance": []
    },
    "kernelspec": {
      "name": "python3",
      "display_name": "Python 3"
    },
    "language_info": {
      "name": "python"
    }
  },
  "cells": [
    {
      "cell_type": "markdown",
      "source": [
        "# Music Genre Classification\n",
        "\n",
        "With the help of Neural Networks , this Notebook classifies music genres. The first and simpler approach is with a Feedforward Network and the second approach with Convolutional Networks.\n",
        "\n"
      ],
      "metadata": {
        "id": "ixu6Ud1l4PAw"
      }
    },
    {
      "cell_type": "code",
      "execution_count": 27,
      "metadata": {
        "id": "54oJkl5IETRm",
        "colab": {
          "base_uri": "https://localhost:8080/"
        },
        "outputId": "32842c3b-8563-4979-dc5a-ab8f16ffa85e"
      },
      "outputs": [
        {
          "output_type": "stream",
          "name": "stdout",
          "text": [
            "Drive already mounted at /content/drive; to attempt to forcibly remount, call drive.mount(\"/content/drive\", force_remount=True).\n"
          ]
        }
      ],
      "source": [
        "import os\n",
        "import time\n",
        "import torch\n",
        "import numpy as np\n",
        "import pandas as pd\n",
        "import seaborn as sns\n",
        "import torch.nn as nn\n",
        "from google.colab import drive\n",
        "import matplotlib.pyplot as plt\n",
        "import torch.nn.functional as F\n",
        "from torch.utils.data import Dataset\n",
        "from torch.utils.data import DataLoader\n",
        "\n",
        "drive.mount('/content/drive')\n"
      ]
    },
    {
      "cell_type": "markdown",
      "source": [
        "# Step1\n",
        "\n",
        "Load data from Google Drive and transform labels from strings to integers from 0 to 3, keeping their mapping to class names. Then load the data into Dataloaders."
      ],
      "metadata": {
        "id": "DCROsoa5KcLr"
      }
    },
    {
      "cell_type": "code",
      "source": [
        "location = r'/content/drive/My Drive/data_music/'\n",
        "\n",
        "train_path = location + 'train/mfccs/'\n",
        "train_x = np.load(train_path + 'X.npy')\n",
        "train_lbls = np.load(train_path + 'labels.npy')\n",
        "\n",
        "test_path = location + 'test/mfccs/'\n",
        "test_x = np.load(test_path + 'X.npy')\n",
        "test_lbls = np.load(test_path + 'labels.npy')\n",
        "\n",
        "val_path = location + 'val/mfccs/'\n",
        "val_x = np.load(val_path + 'X.npy')\n",
        "val_lbls = np.load(val_path + 'labels.npy')"
      ],
      "metadata": {
        "id": "PECX2_DTGkNG"
      },
      "execution_count": 28,
      "outputs": []
    },
    {
      "cell_type": "markdown",
      "source": [
        "\n",
        "\n",
        "*   Mel-frequency cepstrums(MFCC) are used for the FeedForward Model.\n",
        "\n"
      ],
      "metadata": {
        "id": "wYcA-ACj5P0X"
      }
    },
    {
      "cell_type": "code",
      "source": [
        "class mfccData(Dataset):\n",
        "  def __init__(self, data, labels, labels_map , transform=None, target_transform=None) -> None:\n",
        "    self.transform = transform\n",
        "    self.target_transform = target_transform\n",
        "    self.mfcclabels = []\n",
        "    for l in labels:\n",
        "      self.mfcclabels.append(labels_map[l])\n",
        "    self.mfcclabels = np.array(self.mfcclabels)\n",
        "    self.mfccdata = data\n",
        "\n",
        "  def __len__(self):\n",
        "    return len(self.mfcclabels)\n",
        "\n",
        "  def __getitem__(self, index):\n",
        "    sound = self.mfccdata[index]\n",
        "    label = self.mfcclabels[index]\n",
        "    if self.transform:\n",
        "      sound = self.transform(sound)\n",
        "    if self.target_transform:\n",
        "      label = self.target_transform(label)\n",
        "\n",
        "    return sound, label\n",
        "\n",
        "inverse_labels_map = {\n",
        "    'classical' : 0,\n",
        "    'blues' : 1,\n",
        "    'rock_metal_hardrock' : 2,\n",
        "    'hiphop' : 3,\n",
        "}\n",
        "\n",
        "\n",
        "train_data = mfccData(train_x, train_lbls, inverse_labels_map, torch.tensor)\n",
        "val_data = mfccData(val_x, val_lbls, inverse_labels_map, torch.tensor)\n",
        "test_data = mfccData(test_x, test_lbls, inverse_labels_map, torch.tensor)\n",
        "\n",
        "train_dataloader = DataLoader(train_data, batch_size=16,shuffle=True )\n",
        "val_dataloader =  DataLoader(val_data, batch_size=16,shuffle=True )\n",
        "test_dataloader =  DataLoader(test_data, batch_size=16,shuffle=True )"
      ],
      "metadata": {
        "id": "A9mzdys-K88s"
      },
      "execution_count": 29,
      "outputs": []
    },
    {
      "cell_type": "code",
      "source": [
        "# Then the labels mapping\n",
        "labelsMapping, indexed_labels_train = np.unique(train_lbls, return_inverse=True)\n",
        "labelsMapping, indexed_labels_val = np.unique(val_lbls, return_inverse=True)\n",
        "labelsMapping, indexed_labels_test = np.unique(test_lbls, return_inverse=True)"
      ],
      "metadata": {
        "id": "H0ulJm2-MGzx"
      },
      "execution_count": 30,
      "outputs": []
    },
    {
      "cell_type": "markdown",
      "source": [
        "# Step 2\n",
        "Fully Connected Neural Net. without activation functions and linear stacks.The data are in 1-D , so the flatten step is omitted."
      ],
      "metadata": {
        "id": "SMXe23pDlFDb"
      }
    },
    {
      "cell_type": "code",
      "source": [
        "class NeuralNetwork(nn.Module):\n",
        "  def __init__(self):\n",
        "        super().__init__()\n",
        "        self.linear_relu_stack = nn.Sequential(\n",
        "          nn.Linear(26, 128),\n",
        "          nn.Linear(128, 32),\n",
        "          nn.Linear(32,4),\n",
        "      )\n",
        "\n",
        "  def forward(self, x):\n",
        "        logits = self.linear_relu_stack(x)\n",
        "        return logits"
      ],
      "metadata": {
        "id": "WcftB8Lskwh6"
      },
      "execution_count": 31,
      "outputs": []
    },
    {
      "cell_type": "markdown",
      "source": [
        "#Step 3\n",
        "\n",
        "Define Training Function.\n"
      ],
      "metadata": {
        "id": "IDI5Y_jMli08"
      }
    },
    {
      "cell_type": "code",
      "source": [
        "def train_loop(dataloader, model, loss_fn, optimizer):\n",
        "  size = len(dataloader.dataset)\n",
        "  for batch, (X, y) in enumerate(dataloader):\n",
        "        X = X.to(device)\n",
        "        y = y.to(device)\n",
        "\n",
        "# Calculation of losses\n",
        "        pred = model(X.float())#forward()\n",
        "        loss = loss_fn(pred, y)\n",
        "\n",
        "        optimizer.zero_grad() #reset gradients\n",
        "        loss.backward()       #calculation gradient of the loss\n",
        "        optimizer.step()      #Update parameters based on the calculated derivatives of the previous step\n",
        "\n",
        "        if batch % 100 == 0:\n",
        "            loss, current = loss.item(), batch * len(X)\n",
        "            print(f\"loss: {loss:>7f}  [{current:>5d}/{size:>5d}]\")\n",
        "  return model"
      ],
      "metadata": {
        "id": "dOfuRcNSlmgw"
      },
      "execution_count": 32,
      "outputs": []
    },
    {
      "cell_type": "code",
      "source": [
        "# Confusion Matrix Plotting\n",
        "def confusionMatrix(trues, preds):\n",
        "    names =[labelsMapping[0], labelsMapping[1], labelsMapping[2],labelsMapping[3]]\n",
        "    cfmatr = confusion_matrix(trues, preds)\n",
        "    df_cm = pd.DataFrame(cfmatr/np.sum(cfmatr) * 4, index = [i for i in names],\n",
        "                     columns = [i for i in names])\n",
        "    plt.figure(figsize = (9,9))\n",
        "    sns.heatmap(df_cm, cmap='viridis_r', annot=True)\n",
        "    plt.show()"
      ],
      "metadata": {
        "id": "N_ROOea4Mj8Q"
      },
      "execution_count": 33,
      "outputs": []
    },
    {
      "cell_type": "markdown",
      "source": [
        "#Step 4\n",
        "\n",
        "Define Evaluation Function."
      ],
      "metadata": {
        "id": "1TOt1SXTQA4M"
      }
    },
    {
      "cell_type": "code",
      "source": [
        "from sklearn.metrics import accuracy_score, f1_score, confusion_matrix, ConfusionMatrixDisplay"
      ],
      "metadata": {
        "id": "Em32NyCXMQHS"
      },
      "execution_count": 34,
      "outputs": []
    },
    {
      "cell_type": "code",
      "source": [
        "def test_loop(dataloader, model, loss_fn):\n",
        "    size = len(dataloader.dataset)\n",
        "    test_loss, correct = 0, 0\n",
        "#lists to use with metrics\n",
        "    predictions = []\n",
        "    labels = []\n",
        "# the no_grad command tells PyTorch not to store the derivatives (as long as we check and don't train) We use it in the evaluation\n",
        "    model.eval()\n",
        "    with torch.no_grad():\n",
        "        for X, y in dataloader:\n",
        "\n",
        "            X = X.to(device)\n",
        "            y = y.to(device)\n",
        "\n",
        "            pred = model(X.float()) # One step forwarard and calculation of pred outputs\n",
        "#Appending lists for metrics\n",
        "            predictions.append(pred.argmax(1).cpu().numpy())\n",
        "            labels.append(y.cpu().numpy())\n",
        "\n",
        "            test_loss += loss_fn(pred, y).item() #Calculation of  testlosss\n",
        "#calculating whether the class with the highest probability is the correct one, and if so then adding it\n",
        "            correct += (pred.argmax(1) == y).type(torch.float).sum().item()\n",
        "\n",
        "    test_loss /= size\n",
        "    correct /= size\n",
        "\n",
        "#np.array to use with  scikit\n",
        "    predictions = np.array(predictions).flatten()\n",
        "    labels = np.array(labels).flatten()\n",
        "    accuracy = accuracy_score(labels, predictions)\n",
        "    f1_macro = f1_score(labels, predictions, average='macro')\n",
        "    print(f\"Test Error: \\n Accuracy: {(100*correct):>0.1f}%, Avg loss: {test_loss:>8f} , Accuracy: {accuracy} , f1_macro: {f1_macro} \\n\")\n",
        "    return test_loss , accuracy , f1_macro ,labels , predictions\n"
      ],
      "metadata": {
        "id": "khFkaeD8P8kK"
      },
      "execution_count": 35,
      "outputs": []
    },
    {
      "cell_type": "markdown",
      "source": [
        "# Step 5\n",
        "Train and evaluate the neural network.\n",
        "\n",
        "\n"
      ],
      "metadata": {
        "id": "ZKvzZ1_xQHM1"
      }
    },
    {
      "cell_type": "code",
      "source": [
        "learning_rate = 0.002\n",
        "device = 'cpu'\n",
        "simple_model = NeuralNetwork().to(device)\n",
        "print(simple_model)\n",
        "optimizer = torch.optim.SGD(simple_model.parameters(), lr = learning_rate)\n",
        "loss_fn = nn.CrossEntropyLoss()\n",
        "\n",
        "num_epochs = 30\n",
        "\n",
        "start_time = time.time()\n",
        "for t in range(num_epochs):\n",
        "    print(f\"Epoch {t+1}\\n-------------------------------\")\n",
        "    train_loop(train_dataloader, simple_model, loss_fn, optimizer)\n",
        "    if t == num_epochs - 1:\n",
        "        test_loss, accuracy, f1_macro, labels , pred = test_loop(test_dataloader, simple_model, loss_fn)\n",
        "        confusionMatrix(labels , pred)\n",
        "\n",
        "\n",
        "print(\"Done!\")\n",
        "print(f'\\n Time needed: {time.time() - start_time}')\n",
        "\n",
        "\n"
      ],
      "metadata": {
        "id": "XHQVqenQQFpX",
        "colab": {
          "base_uri": "https://localhost:8080/",
          "height": 0
        },
        "outputId": "9973ec62-4e0e-4938-bad1-e76a8ecabeeb"
      },
      "execution_count": 36,
      "outputs": [
        {
          "output_type": "stream",
          "name": "stdout",
          "text": [
            "NeuralNetwork(\n",
            "  (linear_relu_stack): Sequential(\n",
            "    (0): Linear(in_features=26, out_features=128, bias=True)\n",
            "    (1): Linear(in_features=128, out_features=32, bias=True)\n",
            "    (2): Linear(in_features=32, out_features=4, bias=True)\n",
            "  )\n",
            ")\n",
            "Epoch 1\n",
            "-------------------------------\n",
            "loss: 1.639816  [    0/ 3200]\n",
            "loss: 1.378890  [ 1600/ 3200]\n",
            "Epoch 2\n",
            "-------------------------------\n",
            "loss: 1.381306  [    0/ 3200]\n",
            "loss: 1.390864  [ 1600/ 3200]\n",
            "Epoch 3\n",
            "-------------------------------\n",
            "loss: 1.429140  [    0/ 3200]\n",
            "loss: 1.215645  [ 1600/ 3200]\n",
            "Epoch 4\n",
            "-------------------------------\n",
            "loss: 1.279674  [    0/ 3200]\n",
            "loss: 1.313935  [ 1600/ 3200]\n",
            "Epoch 5\n",
            "-------------------------------\n",
            "loss: 1.252643  [    0/ 3200]\n",
            "loss: 1.352015  [ 1600/ 3200]\n",
            "Epoch 6\n",
            "-------------------------------\n",
            "loss: 1.224906  [    0/ 3200]\n",
            "loss: 1.332368  [ 1600/ 3200]\n",
            "Epoch 7\n",
            "-------------------------------\n",
            "loss: 1.171867  [    0/ 3200]\n",
            "loss: 1.182863  [ 1600/ 3200]\n",
            "Epoch 8\n",
            "-------------------------------\n",
            "loss: 1.181051  [    0/ 3200]\n",
            "loss: 1.198314  [ 1600/ 3200]\n",
            "Epoch 9\n",
            "-------------------------------\n",
            "loss: 1.101261  [    0/ 3200]\n",
            "loss: 1.012191  [ 1600/ 3200]\n",
            "Epoch 10\n",
            "-------------------------------\n",
            "loss: 1.142456  [    0/ 3200]\n",
            "loss: 1.105554  [ 1600/ 3200]\n",
            "Epoch 11\n",
            "-------------------------------\n",
            "loss: 1.179629  [    0/ 3200]\n",
            "loss: 1.044103  [ 1600/ 3200]\n",
            "Epoch 12\n",
            "-------------------------------\n",
            "loss: 1.204058  [    0/ 3200]\n",
            "loss: 1.183200  [ 1600/ 3200]\n",
            "Epoch 13\n",
            "-------------------------------\n",
            "loss: 1.153287  [    0/ 3200]\n",
            "loss: 0.961364  [ 1600/ 3200]\n",
            "Epoch 14\n",
            "-------------------------------\n",
            "loss: 1.197717  [    0/ 3200]\n",
            "loss: 0.912785  [ 1600/ 3200]\n",
            "Epoch 15\n",
            "-------------------------------\n",
            "loss: 0.986195  [    0/ 3200]\n",
            "loss: 0.879870  [ 1600/ 3200]\n",
            "Epoch 16\n",
            "-------------------------------\n",
            "loss: 0.886157  [    0/ 3200]\n",
            "loss: 1.107502  [ 1600/ 3200]\n",
            "Epoch 17\n",
            "-------------------------------\n",
            "loss: 1.007447  [    0/ 3200]\n",
            "loss: 0.834258  [ 1600/ 3200]\n",
            "Epoch 18\n",
            "-------------------------------\n",
            "loss: 1.089756  [    0/ 3200]\n",
            "loss: 0.831540  [ 1600/ 3200]\n",
            "Epoch 19\n",
            "-------------------------------\n",
            "loss: 0.914952  [    0/ 3200]\n",
            "loss: 1.157249  [ 1600/ 3200]\n",
            "Epoch 20\n",
            "-------------------------------\n",
            "loss: 0.920090  [    0/ 3200]\n",
            "loss: 0.890341  [ 1600/ 3200]\n",
            "Epoch 21\n",
            "-------------------------------\n",
            "loss: 0.943238  [    0/ 3200]\n",
            "loss: 0.693346  [ 1600/ 3200]\n",
            "Epoch 22\n",
            "-------------------------------\n",
            "loss: 0.769399  [    0/ 3200]\n",
            "loss: 1.041745  [ 1600/ 3200]\n",
            "Epoch 23\n",
            "-------------------------------\n",
            "loss: 0.791907  [    0/ 3200]\n",
            "loss: 0.866494  [ 1600/ 3200]\n",
            "Epoch 24\n",
            "-------------------------------\n",
            "loss: 0.667476  [    0/ 3200]\n",
            "loss: 0.709103  [ 1600/ 3200]\n",
            "Epoch 25\n",
            "-------------------------------\n",
            "loss: 0.778348  [    0/ 3200]\n",
            "loss: 0.732620  [ 1600/ 3200]\n",
            "Epoch 26\n",
            "-------------------------------\n",
            "loss: 1.016577  [    0/ 3200]\n",
            "loss: 0.798724  [ 1600/ 3200]\n",
            "Epoch 27\n",
            "-------------------------------\n",
            "loss: 0.898933  [    0/ 3200]\n",
            "loss: 1.239163  [ 1600/ 3200]\n",
            "Epoch 28\n",
            "-------------------------------\n",
            "loss: 0.985636  [    0/ 3200]\n",
            "loss: 1.066158  [ 1600/ 3200]\n",
            "Epoch 29\n",
            "-------------------------------\n",
            "loss: 1.068026  [    0/ 3200]\n",
            "loss: 0.727207  [ 1600/ 3200]\n",
            "Epoch 30\n",
            "-------------------------------\n",
            "loss: 1.372423  [    0/ 3200]\n",
            "loss: 0.878023  [ 1600/ 3200]\n",
            "Test Error: \n",
            " Accuracy: 59.2%, Avg loss: 0.063689 , Accuracy: 0.5915697674418605 , f1_macro: 0.5977881631940541 \n",
            "\n"
          ]
        },
        {
          "output_type": "display_data",
          "data": {
            "text/plain": [
              "<Figure size 900x900 with 2 Axes>"
            ],
            "image/png": "[encoded data removed]"
          },
          "metadata": {}
        },
        {
          "output_type": "stream",
          "name": "stdout",
          "text": [
            "Done!\n",
            "\n",
            " Time needed: 8.00555419921875\n"
          ]
        }
      ]
    },
    {
      "cell_type": "markdown",
      "source": [
        "Οι επιδόσεις δεν είναι τόσο καλές(60%) και από ένα σημείο και μετά το μοντέλο δεν \"μαθαίνει\" αφού οι αποδόσεις του περιστρέφονται γύρω από ένα μικρό εύρος τιμών."
      ],
      "metadata": {
        "id": "Fl4EWfvi362B"
      }
    },
    {
      "cell_type": "markdown",
      "source": [
        "# Step 6\n",
        "Use GPU for training.\n",
        "\n"
      ],
      "metadata": {
        "id": "JdADGzs5qXJj"
      }
    },
    {
      "cell_type": "code",
      "source": [
        "device = 'cuda' if torch.cuda.is_available() else 'cpu'\n",
        "if device == 'cuda':\n",
        "    print('GPU is available!')\n",
        "else:\n",
        "    print('GPU is not available, using CPU.')\n",
        "\n",
        "#Repeat step 5\n",
        "learning_rate = 0.002\n",
        "simple_model = NeuralNetwork().to(device)\n",
        "# print(simple_model)\n",
        "optimizer = torch.optim.SGD(simple_model.parameters(), lr = learning_rate)\n",
        "loss_fn = nn.CrossEntropyLoss()\n",
        "num_epochs = 30\n",
        "\n",
        "start_time = time.time()\n",
        "for t in range(num_epochs):\n",
        "    print(f\"Epoch {t+1}\\n-------------------------------\")\n",
        "    train_loop(train_dataloader, simple_model, loss_fn, optimizer)\n",
        "    test_loop(test_dataloader, simple_model, loss_fn)\n",
        "print(\"Done!\")\n",
        "print(f'\\n Time needed: {time.time() - start_time}')\n"
      ],
      "metadata": {
        "id": "C77qwDi_tfbL"
      },
      "execution_count": null,
      "outputs": []
    },
    {
      "cell_type": "markdown",
      "source": [
        "# Step 7\n",
        "Choose the best snapshot of the neural , comparing the f1 score each iteration"
      ],
      "metadata": {
        "id": "1PV4vYRuY2kg"
      }
    },
    {
      "cell_type": "code",
      "source": [
        "def train_with_validation(epochs, optimizer, tr_dataloader, val_dataloader, loss_fn , model):\n",
        "  opt_model = None\n",
        "  opt_f1 = 0\n",
        "  opt_epoch = 0\n",
        "  for e in range(epochs):\n",
        "    print(f\"Epoch {e+1}\\n-------------------------------\")\n",
        "    train_loop(tr_dataloader, model, loss_fn, optimizer)\n",
        "    loss , acc , f1 , true , pred = test_loop(val_dataloader ,model ,loss_fn)\n",
        "    if f1 > opt_f1:\n",
        "      opt_model = model\n",
        "      opt_f1 = f1\n",
        "      opt_epoch = e\n",
        "  print(f'Best Epoch is : {opt_epoch} with {opt_f1} f1_score')\n",
        "  return opt_model"
      ],
      "metadata": {
        "id": "vfZe1f51Y2Ll"
      },
      "execution_count": 37,
      "outputs": []
    },
    {
      "cell_type": "code",
      "source": [
        "learning_rate = 0.002\n",
        "optimizer = torch.optim.SGD(simple_model.parameters(), lr = learning_rate)\n",
        "loss_fn = nn.CrossEntropyLoss()\n",
        "num_epochs = 30\n",
        "\n",
        "start_time = time.time()\n",
        "opt_model = train_with_validation(num_epochs, optimizer, train_dataloader, val_dataloader ,loss_fn, simple_model)\n",
        "print(f'\\n Time needed: {time.time() - start_time}')\n",
        "\n",
        "loss , acc , f1 ,trues , pred = test_loop(test_dataloader ,opt_model ,loss_fn)\n",
        "print(f'This is the Testing Metrics:\\n')\n",
        "print(f'loss:{loss} , accuracy:{acc} , f1:{f1}')\n",
        "confusionMatrix(labels , pred)\n",
        "# print(f'Best Model is : {opt_model}')"
      ],
      "metadata": {
        "id": "56nvrniSKfjj",
        "colab": {
          "base_uri": "https://localhost:8080/",
          "height": 0
        },
        "outputId": "81ef0c78-f446-482a-ad66-bf71a7514acd"
      },
      "execution_count": 38,
      "outputs": [
        {
          "output_type": "stream",
          "name": "stdout",
          "text": [
            "Epoch 1\n",
            "-------------------------------\n",
            "loss: 0.755719  [    0/ 3200]\n",
            "loss: 1.135663  [ 1600/ 3200]\n",
            "Test Error: \n",
            " Accuracy: 67.8%, Avg loss: 0.053079 , Accuracy: 0.6775 , f1_macro: 0.6768836875616537 \n",
            "\n",
            "Epoch 2\n",
            "-------------------------------\n",
            "loss: 1.141454  [    0/ 3200]\n",
            "loss: 1.563027  [ 1600/ 3200]\n",
            "Test Error: \n",
            " Accuracy: 64.6%, Avg loss: 0.055179 , Accuracy: 0.64625 , f1_macro: 0.6263436001591816 \n",
            "\n",
            "Epoch 3\n",
            "-------------------------------\n",
            "loss: 0.477849  [    0/ 3200]\n",
            "loss: 0.744055  [ 1600/ 3200]\n",
            "Test Error: \n",
            " Accuracy: 68.4%, Avg loss: 0.052056 , Accuracy: 0.68375 , f1_macro: 0.6703392136200969 \n",
            "\n",
            "Epoch 4\n",
            "-------------------------------\n",
            "loss: 0.734441  [    0/ 3200]\n",
            "loss: 1.194066  [ 1600/ 3200]\n",
            "Test Error: \n",
            " Accuracy: 65.8%, Avg loss: 0.054764 , Accuracy: 0.6575 , f1_macro: 0.649133179435957 \n",
            "\n",
            "Epoch 5\n",
            "-------------------------------\n",
            "loss: 0.782641  [    0/ 3200]\n",
            "loss: 1.052648  [ 1600/ 3200]\n",
            "Test Error: \n",
            " Accuracy: 63.1%, Avg loss: 0.054905 , Accuracy: 0.63125 , f1_macro: 0.6157020846991593 \n",
            "\n",
            "Epoch 6\n",
            "-------------------------------\n",
            "loss: 0.735116  [    0/ 3200]\n",
            "loss: 0.906534  [ 1600/ 3200]\n",
            "Test Error: \n",
            " Accuracy: 69.4%, Avg loss: 0.051531 , Accuracy: 0.69375 , f1_macro: 0.688636950791126 \n",
            "\n",
            "Epoch 7\n",
            "-------------------------------\n",
            "loss: 1.021627  [    0/ 3200]\n",
            "loss: 0.938573  [ 1600/ 3200]\n",
            "Test Error: \n",
            " Accuracy: 58.4%, Avg loss: 0.056701 , Accuracy: 0.58375 , f1_macro: 0.5731583975153505 \n",
            "\n",
            "Epoch 8\n",
            "-------------------------------\n",
            "loss: 0.776009  [    0/ 3200]\n",
            "loss: 0.638452  [ 1600/ 3200]\n",
            "Test Error: \n",
            " Accuracy: 59.2%, Avg loss: 0.059704 , Accuracy: 0.5925 , f1_macro: 0.5646070640691946 \n",
            "\n",
            "Epoch 9\n",
            "-------------------------------\n",
            "loss: 0.974323  [    0/ 3200]\n",
            "loss: 0.757143  [ 1600/ 3200]\n",
            "Test Error: \n",
            " Accuracy: 67.4%, Avg loss: 0.051994 , Accuracy: 0.67375 , f1_macro: 0.6523044284787354 \n",
            "\n",
            "Epoch 10\n",
            "-------------------------------\n",
            "loss: 0.737899  [    0/ 3200]\n",
            "loss: 0.754503  [ 1600/ 3200]\n",
            "Test Error: \n",
            " Accuracy: 70.9%, Avg loss: 0.050980 , Accuracy: 0.70875 , f1_macro: 0.7067755574863536 \n",
            "\n",
            "Epoch 11\n",
            "-------------------------------\n",
            "loss: 0.707376  [    0/ 3200]\n",
            "loss: 0.591214  [ 1600/ 3200]\n",
            "Test Error: \n",
            " Accuracy: 69.6%, Avg loss: 0.051124 , Accuracy: 0.69625 , f1_macro: 0.6939563932603019 \n",
            "\n",
            "Epoch 12\n",
            "-------------------------------\n",
            "loss: 0.863151  [    0/ 3200]\n",
            "loss: 0.949213  [ 1600/ 3200]\n",
            "Test Error: \n",
            " Accuracy: 64.0%, Avg loss: 0.054181 , Accuracy: 0.64 , f1_macro: 0.6253305609236666 \n",
            "\n",
            "Epoch 13\n",
            "-------------------------------\n",
            "loss: 0.708373  [    0/ 3200]\n",
            "loss: 0.892183  [ 1600/ 3200]\n",
            "Test Error: \n",
            " Accuracy: 68.8%, Avg loss: 0.050022 , Accuracy: 0.6875 , f1_macro: 0.6647056214468413 \n",
            "\n",
            "Epoch 14\n",
            "-------------------------------\n",
            "loss: 0.874396  [    0/ 3200]\n",
            "loss: 1.100470  [ 1600/ 3200]\n",
            "Test Error: \n",
            " Accuracy: 66.5%, Avg loss: 0.052154 , Accuracy: 0.665 , f1_macro: 0.6609628927309433 \n",
            "\n",
            "Epoch 15\n",
            "-------------------------------\n",
            "loss: 0.777665  [    0/ 3200]\n",
            "loss: 0.813156  [ 1600/ 3200]\n",
            "Test Error: \n",
            " Accuracy: 71.5%, Avg loss: 0.049834 , Accuracy: 0.715 , f1_macro: 0.7122825170546843 \n",
            "\n",
            "Epoch 16\n",
            "-------------------------------\n",
            "loss: 1.020914  [    0/ 3200]\n",
            "loss: 0.798845  [ 1600/ 3200]\n",
            "Test Error: \n",
            " Accuracy: 62.0%, Avg loss: 0.053133 , Accuracy: 0.62 , f1_macro: 0.5944670747531546 \n",
            "\n",
            "Epoch 17\n",
            "-------------------------------\n",
            "loss: 0.797226  [    0/ 3200]\n",
            "loss: 0.739547  [ 1600/ 3200]\n",
            "Test Error: \n",
            " Accuracy: 66.5%, Avg loss: 0.051124 , Accuracy: 0.665 , f1_macro: 0.648631897187986 \n",
            "\n",
            "Epoch 18\n",
            "-------------------------------\n",
            "loss: 0.891223  [    0/ 3200]\n",
            "loss: 0.885957  [ 1600/ 3200]\n",
            "Test Error: \n",
            " Accuracy: 65.6%, Avg loss: 0.054207 , Accuracy: 0.65625 , f1_macro: 0.6522725908410464 \n",
            "\n",
            "Epoch 19\n",
            "-------------------------------\n",
            "loss: 1.316776  [    0/ 3200]\n",
            "loss: 0.718101  [ 1600/ 3200]\n",
            "Test Error: \n",
            " Accuracy: 61.1%, Avg loss: 0.056460 , Accuracy: 0.61125 , f1_macro: 0.5759130507722077 \n",
            "\n",
            "Epoch 20\n",
            "-------------------------------\n",
            "loss: 0.665401  [    0/ 3200]\n",
            "loss: 0.904591  [ 1600/ 3200]\n",
            "Test Error: \n",
            " Accuracy: 66.8%, Avg loss: 0.050432 , Accuracy: 0.6675 , f1_macro: 0.6434088954285888 \n",
            "\n",
            "Epoch 21\n",
            "-------------------------------\n",
            "loss: 0.824008  [    0/ 3200]\n",
            "loss: 0.817671  [ 1600/ 3200]\n",
            "Test Error: \n",
            " Accuracy: 69.4%, Avg loss: 0.049850 , Accuracy: 0.69375 , f1_macro: 0.6797438524803716 \n",
            "\n",
            "Epoch 22\n",
            "-------------------------------\n",
            "loss: 0.906404  [    0/ 3200]\n",
            "loss: 0.483603  [ 1600/ 3200]\n",
            "Test Error: \n",
            " Accuracy: 69.1%, Avg loss: 0.050752 , Accuracy: 0.69125 , f1_macro: 0.6940395836622448 \n",
            "\n",
            "Epoch 23\n",
            "-------------------------------\n",
            "loss: 0.865445  [    0/ 3200]\n",
            "loss: 1.030209  [ 1600/ 3200]\n",
            "Test Error: \n",
            " Accuracy: 64.9%, Avg loss: 0.052529 , Accuracy: 0.64875 , f1_macro: 0.6206567401928287 \n",
            "\n",
            "Epoch 24\n",
            "-------------------------------\n",
            "loss: 0.820761  [    0/ 3200]\n",
            "loss: 0.819793  [ 1600/ 3200]\n",
            "Test Error: \n",
            " Accuracy: 68.0%, Avg loss: 0.049952 , Accuracy: 0.68 , f1_macro: 0.658026942350125 \n",
            "\n",
            "Epoch 25\n",
            "-------------------------------\n",
            "loss: 0.681659  [    0/ 3200]\n",
            "loss: 0.371308  [ 1600/ 3200]\n",
            "Test Error: \n",
            " Accuracy: 67.5%, Avg loss: 0.050024 , Accuracy: 0.675 , f1_macro: 0.642327530966468 \n",
            "\n",
            "Epoch 26\n",
            "-------------------------------\n",
            "loss: 0.537072  [    0/ 3200]\n",
            "loss: 0.992373  [ 1600/ 3200]\n",
            "Test Error: \n",
            " Accuracy: 66.4%, Avg loss: 0.051459 , Accuracy: 0.66375 , f1_macro: 0.6521580625654182 \n",
            "\n",
            "Epoch 27\n",
            "-------------------------------\n",
            "loss: 0.788302  [    0/ 3200]\n",
            "loss: 1.013333  [ 1600/ 3200]\n",
            "Test Error: \n",
            " Accuracy: 70.1%, Avg loss: 0.050015 , Accuracy: 0.70125 , f1_macro: 0.7001405766249436 \n",
            "\n",
            "Epoch 28\n",
            "-------------------------------\n",
            "loss: 0.706204  [    0/ 3200]\n",
            "loss: 0.918916  [ 1600/ 3200]\n",
            "Test Error: \n",
            " Accuracy: 67.2%, Avg loss: 0.051547 , Accuracy: 0.6725 , f1_macro: 0.6679895539707559 \n",
            "\n",
            "Epoch 29\n",
            "-------------------------------\n",
            "loss: 0.873440  [    0/ 3200]\n",
            "loss: 0.805525  [ 1600/ 3200]\n",
            "Test Error: \n",
            " Accuracy: 66.6%, Avg loss: 0.050233 , Accuracy: 0.66625 , f1_macro: 0.6525498399359302 \n",
            "\n",
            "Epoch 30\n",
            "-------------------------------\n",
            "loss: 0.555536  [    0/ 3200]\n",
            "loss: 0.598139  [ 1600/ 3200]\n",
            "Test Error: \n",
            " Accuracy: 67.8%, Avg loss: 0.050646 , Accuracy: 0.6775 , f1_macro: 0.6613475025437485 \n",
            "\n",
            "Best Epoch is : 14 with 0.7122825170546843 f1_score\n",
            "\n",
            " Time needed: 8.708898305892944\n",
            "Test Error: \n",
            " Accuracy: 63.2%, Avg loss: 0.059345 , Accuracy: 0.6322674418604651 , f1_macro: 0.6127629342445026 \n",
            "\n",
            "This is the Testing Metrics:\n",
            "\n",
            "loss:0.05934461936094733 , accuracy:0.6322674418604651 , f1:0.6127629342445026\n"
          ]
        },
        {
          "output_type": "display_data",
          "data": {
            "text/plain": [
              "<Figure size 900x900 with 2 Axes>"
            ],
            "image/png": "[encoded data removed]"
          },
          "metadata": {}
        }
      ]
    }
  ]
}